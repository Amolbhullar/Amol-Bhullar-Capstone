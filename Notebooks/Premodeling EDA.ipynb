{
 "cells": [
  {
   "cell_type": "markdown",
   "metadata": {},
   "source": [
    "## Project Introduction"
   ]
  },
  {
   "cell_type": "markdown",
   "metadata": {},
   "source": [
    "<a id=\"0\"></a> <br>\n",
    " # Table of Contents  \n",
    "1. [Introduction](#1)\n",
    "    1. [Loading Packages](#2) \n",
    "1. [Dataset 1](#5)\n",
    "    1. [EDA](#6) \n",
    "1. [Dataset 2](#7)\n",
    "    1. [EDA](#9)\n",
    "    1. [Visuals](#8) \n",
    "1. [Preprocessing for Modeling](#9) \n",
    "1. [Conclusion](#10) "
   ]
  },
  {
   "cell_type": "markdown",
   "metadata": {},
   "source": [
    "<a id=\"1\"></a> \n",
    "# 1. Introduction"
   ]
  },
  {
   "cell_type": "markdown",
   "metadata": {},
   "source": [
    "The objective of this Capstone project is to develop a machine learning classifier that can predict whether a product is gluten-free or not based on its product description. The project will leverage a dataset containing product descriptions and their corresponding gluten-free status labels."
   ]
  },
  {
   "cell_type": "markdown",
   "metadata": {
    "tags": []
   },
   "source": [
    "<a id=\"2\"></a> \n",
    "### 1a. Loading Packages"
   ]
  },
  {
   "cell_type": "code",
   "execution_count": 1,
   "metadata": {},
   "outputs": [
    {
     "name": "stderr",
     "output_type": "stream",
     "text": [
      "[nltk_data] Downloading package omw-1.4 to /Users/Amol/nltk_data...\n",
      "[nltk_data]   Package omw-1.4 is already up-to-date!\n",
      "[nltk_data] Downloading package punkt to /Users/Amol/nltk_data...\n",
      "[nltk_data]   Package punkt is already up-to-date!\n",
      "[nltk_data] Downloading package wordnet to /Users/Amol/nltk_data...\n",
      "[nltk_data]   Package wordnet is already up-to-date!\n"
     ]
    },
    {
     "data": {
      "text/plain": [
       "True"
      ]
     },
     "execution_count": 1,
     "metadata": {},
     "output_type": "execute_result"
    }
   ],
   "source": [
    "from collections import Counter\n",
    "import re\n",
    "import pandas as pd\n",
    "import numpy as np\n",
    "import matplotlib.pyplot as plt\n",
    "import seaborn as sns\n",
    "import string\n",
    "import nltk\n",
    "import re\n",
    "import warnings\n",
    "\n",
    "from sklearn.model_selection import train_test_split\n",
    "from sklearn.feature_extraction.text import CountVectorizer\n",
    "from sklearn.naive_bayes import MultinomialNB\n",
    "from sklearn.metrics import accuracy_score, classification_report\n",
    "from sklearn.tree import DecisionTreeClassifier\n",
    "from sklearn.svm import SVC\n",
    "from sklearn.preprocessing import StandardScaler\n",
    "from sklearn.decomposition import PCA\n",
    "from sklearn.pipeline import Pipeline\n",
    "from sklearn.metrics import confusion_matrix, classification_report\n",
    "from textblob import Word\n",
    "from nltk.tokenize import word_tokenize\n",
    "from nltk.corpus import wordnet\n",
    "\n",
    "# Ignore futurewarnings\n",
    "warnings.filterwarnings('ignore')\n",
    "nltk.download('omw-1.4')\n",
    "nltk.download('punkt')\n",
    "nltk.download('wordnet')"
   ]
  },
  {
   "cell_type": "markdown",
   "metadata": {},
   "source": [
    "<a id=\"5\"></a> \n",
    "## 1. Dataset 1"
   ]
  },
  {
   "cell_type": "markdown",
   "metadata": {},
   "source": [
    "Let's import the dataset which contains 2 columns, one column will correspond to a food item and the second column will state if the iteam is gluten free. (0 for gluten-free and 1 for not-gluten free)"
   ]
  },
  {
   "cell_type": "code",
   "execution_count": 4,
   "metadata": {},
   "outputs": [],
   "source": [
    "df = pd.read_csv('Gluten-freeDF.csv', encoding='latin1')"
   ]
  },
  {
   "cell_type": "code",
   "execution_count": 5,
   "metadata": {
    "scrolled": true
   },
   "outputs": [
    {
     "data": {
      "text/html": [
       "<div>\n",
       "<style scoped>\n",
       "    .dataframe tbody tr th:only-of-type {\n",
       "        vertical-align: middle;\n",
       "    }\n",
       "\n",
       "    .dataframe tbody tr th {\n",
       "        vertical-align: top;\n",
       "    }\n",
       "\n",
       "    .dataframe thead th {\n",
       "        text-align: right;\n",
       "    }\n",
       "</style>\n",
       "<table border=\"1\" class=\"dataframe\">\n",
       "  <thead>\n",
       "    <tr style=\"text-align: right;\">\n",
       "      <th></th>\n",
       "      <th>Ingredient</th>\n",
       "      <th>Gluten?</th>\n",
       "    </tr>\n",
       "  </thead>\n",
       "  <tbody>\n",
       "    <tr>\n",
       "      <th>0</th>\n",
       "      <td>2% Milk</td>\n",
       "      <td>0</td>\n",
       "    </tr>\n",
       "    <tr>\n",
       "      <th>1</th>\n",
       "      <td>Abies balsamea (Balsam fir) oil</td>\n",
       "      <td>0</td>\n",
       "    </tr>\n",
       "    <tr>\n",
       "      <th>2</th>\n",
       "      <td>Abiu</td>\n",
       "      <td>0</td>\n",
       "    </tr>\n",
       "    <tr>\n",
       "      <th>3</th>\n",
       "      <td>Acacia Gum</td>\n",
       "      <td>0</td>\n",
       "    </tr>\n",
       "    <tr>\n",
       "      <th>4</th>\n",
       "      <td>Açaí Berry</td>\n",
       "      <td>0</td>\n",
       "    </tr>\n",
       "  </tbody>\n",
       "</table>\n",
       "</div>"
      ],
      "text/plain": [
       "                        Ingredient  Gluten?\n",
       "0                          2% Milk        0\n",
       "1  Abies balsamea (Balsam fir) oil        0\n",
       "2                             Abiu        0\n",
       "3                       Acacia Gum        0\n",
       "4                       Açaí Berry        0"
      ]
     },
     "execution_count": 5,
     "metadata": {},
     "output_type": "execute_result"
    }
   ],
   "source": [
    "# Check\n",
    "df.head()"
   ]
  },
  {
   "cell_type": "markdown",
   "metadata": {},
   "source": [
    "The dataset has loaded correctly."
   ]
  },
  {
   "cell_type": "markdown",
   "metadata": {},
   "source": [
    "<a id=\"6\"></a> \n",
    "#### 1a. Dataset 1 EDA"
   ]
  },
  {
   "cell_type": "markdown",
   "metadata": {},
   "source": [
    "We can see the Ingredient is uppercase, let's change it into lowercase by applying a string method to the text strings in the 'Ingredient' column."
   ]
  },
  {
   "cell_type": "code",
   "execution_count": 4,
   "metadata": {},
   "outputs": [],
   "source": [
    "# Lowercasing all the ingredients\n",
    "df['Ingredient'] = df['Ingredient'].str.lower()"
   ]
  },
  {
   "cell_type": "code",
   "execution_count": 5,
   "metadata": {
    "scrolled": true
   },
   "outputs": [
    {
     "data": {
      "text/html": [
       "<div>\n",
       "<style scoped>\n",
       "    .dataframe tbody tr th:only-of-type {\n",
       "        vertical-align: middle;\n",
       "    }\n",
       "\n",
       "    .dataframe tbody tr th {\n",
       "        vertical-align: top;\n",
       "    }\n",
       "\n",
       "    .dataframe thead th {\n",
       "        text-align: right;\n",
       "    }\n",
       "</style>\n",
       "<table border=\"1\" class=\"dataframe\">\n",
       "  <thead>\n",
       "    <tr style=\"text-align: right;\">\n",
       "      <th></th>\n",
       "      <th>Ingredient</th>\n",
       "      <th>Gluten?</th>\n",
       "    </tr>\n",
       "  </thead>\n",
       "  <tbody>\n",
       "    <tr>\n",
       "      <th>0</th>\n",
       "      <td>2% milk</td>\n",
       "      <td>0</td>\n",
       "    </tr>\n",
       "    <tr>\n",
       "      <th>1</th>\n",
       "      <td>abies balsamea (balsam fir) oil</td>\n",
       "      <td>0</td>\n",
       "    </tr>\n",
       "    <tr>\n",
       "      <th>2</th>\n",
       "      <td>abiu</td>\n",
       "      <td>0</td>\n",
       "    </tr>\n",
       "    <tr>\n",
       "      <th>3</th>\n",
       "      <td>acacia gum</td>\n",
       "      <td>0</td>\n",
       "    </tr>\n",
       "    <tr>\n",
       "      <th>4</th>\n",
       "      <td>açaí berry</td>\n",
       "      <td>0</td>\n",
       "    </tr>\n",
       "  </tbody>\n",
       "</table>\n",
       "</div>"
      ],
      "text/plain": [
       "                        Ingredient  Gluten?\n",
       "0                          2% milk        0\n",
       "1  abies balsamea (balsam fir) oil        0\n",
       "2                             abiu        0\n",
       "3                       acacia gum        0\n",
       "4                       açaí berry        0"
      ]
     },
     "execution_count": 5,
     "metadata": {},
     "output_type": "execute_result"
    }
   ],
   "source": [
    "#Sanity check to ensure all the ingredients are lowercase\n",
    "df.head()"
   ]
  },
  {
   "cell_type": "markdown",
   "metadata": {},
   "source": [
    "The strings have been lowered"
   ]
  },
  {
   "cell_type": "markdown",
   "metadata": {},
   "source": [
    "For our modeling it is important to check which ingredients contain gluten, so to make the modeling easier let's drop the ingredients that are gluten-free."
   ]
  },
  {
   "cell_type": "code",
   "execution_count": 41,
   "metadata": {},
   "outputs": [
    {
     "data": {
      "text/html": [
       "<div>\n",
       "<style scoped>\n",
       "    .dataframe tbody tr th:only-of-type {\n",
       "        vertical-align: middle;\n",
       "    }\n",
       "\n",
       "    .dataframe tbody tr th {\n",
       "        vertical-align: top;\n",
       "    }\n",
       "\n",
       "    .dataframe thead th {\n",
       "        text-align: right;\n",
       "    }\n",
       "</style>\n",
       "<table border=\"1\" class=\"dataframe\">\n",
       "  <thead>\n",
       "    <tr style=\"text-align: right;\">\n",
       "      <th></th>\n",
       "      <th>Ingredient</th>\n",
       "    </tr>\n",
       "  </thead>\n",
       "  <tbody>\n",
       "    <tr>\n",
       "      <th>0</th>\n",
       "      <td>Acetoacetyl Ethyl Amino Acid</td>\n",
       "    </tr>\n",
       "    <tr>\n",
       "      <th>1</th>\n",
       "      <td>Alpha-Glucan Oligosaccharide</td>\n",
       "    </tr>\n",
       "    <tr>\n",
       "      <th>2</th>\n",
       "      <td>Alpha-Glucan Oligosaccharide Crosspolymer</td>\n",
       "    </tr>\n",
       "    <tr>\n",
       "      <th>3</th>\n",
       "      <td>Amino Hydroxypropyl Dimethicone</td>\n",
       "    </tr>\n",
       "    <tr>\n",
       "      <th>4</th>\n",
       "      <td>Avena Sativa (Oat) Bran Extract</td>\n",
       "    </tr>\n",
       "  </tbody>\n",
       "</table>\n",
       "</div>"
      ],
      "text/plain": [
       "                                  Ingredient\n",
       "0               Acetoacetyl Ethyl Amino Acid\n",
       "1               Alpha-Glucan Oligosaccharide\n",
       "2  Alpha-Glucan Oligosaccharide Crosspolymer\n",
       "3            Amino Hydroxypropyl Dimethicone\n",
       "4            Avena Sativa (Oat) Bran Extract"
      ]
     },
     "execution_count": 41,
     "metadata": {},
     "output_type": "execute_result"
    }
   ],
   "source": [
    "# Making a copy of the dataset\n",
    "df_gluten = df.copy()\n",
    "\n",
    "# Dataset only contains gluten ingredients\n",
    "df_gluten = df.loc[df['Gluten?'] == 1]\n",
    "df_gluten = df_gluten.drop(['Gluten?'], axis=1)\n",
    "\n",
    "# Redoing the index and dropping the old\n",
    "df_gluten.reset_index(inplace=True, drop=True)\n",
    "\n",
    "# Sanity Check\n",
    "df_gluten.head()"
   ]
  },
  {
   "cell_type": "markdown",
   "metadata": {},
   "source": [
    "Now the dataset only contains gluten containing ingredients."
   ]
  },
  {
   "cell_type": "markdown",
   "metadata": {},
   "source": [
    "-----"
   ]
  },
  {
   "cell_type": "markdown",
   "metadata": {},
   "source": [
    "<a id=\"7\"></a> \n",
    "## 2. Dataset 2"
   ]
  },
  {
   "cell_type": "code",
   "execution_count": 48,
   "metadata": {},
   "outputs": [],
   "source": [
    "df2 = pd.read_csv('branded_food.csv')"
   ]
  },
  {
   "cell_type": "markdown",
   "metadata": {},
   "source": [
    "Exploring the dataset"
   ]
  },
  {
   "cell_type": "markdown",
   "metadata": {},
   "source": [
    "#### Data Dictionary\n",
    "\n",
    "1. fdc_id: ID of the food in the food table\n",
    "2. brand_owner: Brand owner for the food\n",
    "3. gtin_upc: GTIN or UPC code identifying the food\n",
    "4. ingredients: The list of ingredients (as it appears on the product label)\n",
    "5. serving_size: The amount of the serving size when expressed as gram or ml\n",
    "6. serving_size_unit: The amount of the serving size when expressed as gram or ml\n",
    "7. household_serving_fulltext: The amount and unit of serving size when expressed in household units\n",
    "8. branded_food_category: The category of the branded food, assigned by GDSN or Label Insight\n",
    "9. data_source: The source of the data for this food. GDSN (for GS1) or LI (for Label Insight).\n",
    "10. modified_date: This date reflects when the product data was last modified by the data provider, i.e., the manufacturer\n",
    "11. available_date: This is the date when the product record was available for inclusion in the database.\n",
    "12. discontinued_date: This is the date when the product was discontinued.\n",
    "13. market_country: The primary country where the product is marketed."
   ]
  },
  {
   "cell_type": "code",
   "execution_count": 49,
   "metadata": {
    "scrolled": true
   },
   "outputs": [
    {
     "data": {
      "text/html": [
       "<div>\n",
       "<style scoped>\n",
       "    .dataframe tbody tr th:only-of-type {\n",
       "        vertical-align: middle;\n",
       "    }\n",
       "\n",
       "    .dataframe tbody tr th {\n",
       "        vertical-align: top;\n",
       "    }\n",
       "\n",
       "    .dataframe thead th {\n",
       "        text-align: right;\n",
       "    }\n",
       "</style>\n",
       "<table border=\"1\" class=\"dataframe\">\n",
       "  <thead>\n",
       "    <tr style=\"text-align: right;\">\n",
       "      <th></th>\n",
       "      <th>fdc_id</th>\n",
       "      <th>brand_owner</th>\n",
       "      <th>brand_name</th>\n",
       "      <th>subbrand_name</th>\n",
       "      <th>gtin_upc</th>\n",
       "      <th>ingredients</th>\n",
       "      <th>not_a_significant_source_of</th>\n",
       "      <th>serving_size</th>\n",
       "      <th>serving_size_unit</th>\n",
       "      <th>household_serving_fulltext</th>\n",
       "      <th>branded_food_category</th>\n",
       "      <th>data_source</th>\n",
       "      <th>package_weight</th>\n",
       "      <th>modified_date</th>\n",
       "      <th>available_date</th>\n",
       "      <th>market_country</th>\n",
       "      <th>discontinued_date</th>\n",
       "      <th>preparation_state_code</th>\n",
       "      <th>trade_channel</th>\n",
       "      <th>short_description</th>\n",
       "    </tr>\n",
       "  </thead>\n",
       "  <tbody>\n",
       "    <tr>\n",
       "      <th>0</th>\n",
       "      <td>1105904</td>\n",
       "      <td>Richardson Oilseed Products (US) Limited</td>\n",
       "      <td>NaN</td>\n",
       "      <td>NaN</td>\n",
       "      <td>27000612323</td>\n",
       "      <td>Vegetable Oil</td>\n",
       "      <td>NaN</td>\n",
       "      <td>15.0</td>\n",
       "      <td>ml</td>\n",
       "      <td>NaN</td>\n",
       "      <td>Oils Edible</td>\n",
       "      <td>GDSN</td>\n",
       "      <td>NaN</td>\n",
       "      <td>2020-10-02</td>\n",
       "      <td>2020-11-13</td>\n",
       "      <td>United States</td>\n",
       "      <td>NaN</td>\n",
       "      <td>NaN</td>\n",
       "      <td>NaN</td>\n",
       "      <td>NaN</td>\n",
       "    </tr>\n",
       "    <tr>\n",
       "      <th>1</th>\n",
       "      <td>1105905</td>\n",
       "      <td>CAMPBELL SOUP COMPANY</td>\n",
       "      <td>NaN</td>\n",
       "      <td>NaN</td>\n",
       "      <td>51000198808</td>\n",
       "      <td>INGREDIENTS: BEEF STOCK, CONTAINS LESS THAN 2%...</td>\n",
       "      <td>NaN</td>\n",
       "      <td>240.0</td>\n",
       "      <td>ml</td>\n",
       "      <td>NaN</td>\n",
       "      <td>Herbs/Spices/Extracts</td>\n",
       "      <td>GDSN</td>\n",
       "      <td>NaN</td>\n",
       "      <td>2020-09-12</td>\n",
       "      <td>2020-11-13</td>\n",
       "      <td>United States</td>\n",
       "      <td>NaN</td>\n",
       "      <td>NaN</td>\n",
       "      <td>NaN</td>\n",
       "      <td>NaN</td>\n",
       "    </tr>\n",
       "    <tr>\n",
       "      <th>2</th>\n",
       "      <td>1105906</td>\n",
       "      <td>CAMPBELL SOUP COMPANY</td>\n",
       "      <td>NaN</td>\n",
       "      <td>NaN</td>\n",
       "      <td>51000213273</td>\n",
       "      <td>INGREDIENTS: CLAM STOCK, POTATOES, CLAMS, CREA...</td>\n",
       "      <td>NaN</td>\n",
       "      <td>440.0</td>\n",
       "      <td>g</td>\n",
       "      <td>NaN</td>\n",
       "      <td>Prepared Soups</td>\n",
       "      <td>GDSN</td>\n",
       "      <td>NaN</td>\n",
       "      <td>2020-09-01</td>\n",
       "      <td>2020-11-13</td>\n",
       "      <td>United States</td>\n",
       "      <td>NaN</td>\n",
       "      <td>NaN</td>\n",
       "      <td>NaN</td>\n",
       "      <td>NaN</td>\n",
       "    </tr>\n",
       "    <tr>\n",
       "      <th>3</th>\n",
       "      <td>1105907</td>\n",
       "      <td>CAMPBELL SOUP COMPANY</td>\n",
       "      <td>NaN</td>\n",
       "      <td>NaN</td>\n",
       "      <td>51000213303</td>\n",
       "      <td>INGREDIENTS: WATER, CREAM, BROCCOLI, CELERY, V...</td>\n",
       "      <td>NaN</td>\n",
       "      <td>440.0</td>\n",
       "      <td>g</td>\n",
       "      <td>NaN</td>\n",
       "      <td>Prepared Soups</td>\n",
       "      <td>GDSN</td>\n",
       "      <td>NaN</td>\n",
       "      <td>2020-09-01</td>\n",
       "      <td>2020-11-13</td>\n",
       "      <td>United States</td>\n",
       "      <td>NaN</td>\n",
       "      <td>NaN</td>\n",
       "      <td>NaN</td>\n",
       "      <td>NaN</td>\n",
       "    </tr>\n",
       "    <tr>\n",
       "      <th>4</th>\n",
       "      <td>1105908</td>\n",
       "      <td>CAMPBELL SOUP COMPANY</td>\n",
       "      <td>NaN</td>\n",
       "      <td>NaN</td>\n",
       "      <td>51000224637</td>\n",
       "      <td>INGREDIENTS: CHICKEN STOCK, CONTAINS LESS THAN...</td>\n",
       "      <td>NaN</td>\n",
       "      <td>240.0</td>\n",
       "      <td>ml</td>\n",
       "      <td>NaN</td>\n",
       "      <td>Herbs/Spices/Extracts</td>\n",
       "      <td>GDSN</td>\n",
       "      <td>NaN</td>\n",
       "      <td>2020-10-03</td>\n",
       "      <td>2020-11-13</td>\n",
       "      <td>United States</td>\n",
       "      <td>NaN</td>\n",
       "      <td>NaN</td>\n",
       "      <td>NaN</td>\n",
       "      <td>NaN</td>\n",
       "    </tr>\n",
       "  </tbody>\n",
       "</table>\n",
       "</div>"
      ],
      "text/plain": [
       "    fdc_id                               brand_owner brand_name subbrand_name  \\\n",
       "0  1105904  Richardson Oilseed Products (US) Limited        NaN           NaN   \n",
       "1  1105905                     CAMPBELL SOUP COMPANY        NaN           NaN   \n",
       "2  1105906                     CAMPBELL SOUP COMPANY        NaN           NaN   \n",
       "3  1105907                     CAMPBELL SOUP COMPANY        NaN           NaN   \n",
       "4  1105908                     CAMPBELL SOUP COMPANY        NaN           NaN   \n",
       "\n",
       "      gtin_upc                                        ingredients  \\\n",
       "0  27000612323                                      Vegetable Oil   \n",
       "1  51000198808  INGREDIENTS: BEEF STOCK, CONTAINS LESS THAN 2%...   \n",
       "2  51000213273  INGREDIENTS: CLAM STOCK, POTATOES, CLAMS, CREA...   \n",
       "3  51000213303  INGREDIENTS: WATER, CREAM, BROCCOLI, CELERY, V...   \n",
       "4  51000224637  INGREDIENTS: CHICKEN STOCK, CONTAINS LESS THAN...   \n",
       "\n",
       "  not_a_significant_source_of  serving_size serving_size_unit  \\\n",
       "0                         NaN          15.0                ml   \n",
       "1                         NaN         240.0                ml   \n",
       "2                         NaN         440.0                 g   \n",
       "3                         NaN         440.0                 g   \n",
       "4                         NaN         240.0                ml   \n",
       "\n",
       "  household_serving_fulltext  branded_food_category data_source  \\\n",
       "0                        NaN            Oils Edible        GDSN   \n",
       "1                        NaN  Herbs/Spices/Extracts        GDSN   \n",
       "2                        NaN         Prepared Soups        GDSN   \n",
       "3                        NaN         Prepared Soups        GDSN   \n",
       "4                        NaN  Herbs/Spices/Extracts        GDSN   \n",
       "\n",
       "  package_weight modified_date available_date market_country  \\\n",
       "0            NaN    2020-10-02     2020-11-13  United States   \n",
       "1            NaN    2020-09-12     2020-11-13  United States   \n",
       "2            NaN    2020-09-01     2020-11-13  United States   \n",
       "3            NaN    2020-09-01     2020-11-13  United States   \n",
       "4            NaN    2020-10-03     2020-11-13  United States   \n",
       "\n",
       "   discontinued_date preparation_state_code trade_channel short_description  \n",
       "0                NaN                    NaN           NaN               NaN  \n",
       "1                NaN                    NaN           NaN               NaN  \n",
       "2                NaN                    NaN           NaN               NaN  \n",
       "3                NaN                    NaN           NaN               NaN  \n",
       "4                NaN                    NaN           NaN               NaN  "
      ]
     },
     "execution_count": 49,
     "metadata": {},
     "output_type": "execute_result"
    }
   ],
   "source": [
    "df2.head()"
   ]
  },
  {
   "cell_type": "markdown",
   "metadata": {},
   "source": [
    "The dataset has loaded correctly."
   ]
  },
  {
   "cell_type": "markdown",
   "metadata": {},
   "source": [
    "Let's merge another dataset with the current dataset to get product descriptions."
   ]
  },
  {
   "cell_type": "code",
   "execution_count": 50,
   "metadata": {},
   "outputs": [
    {
     "data": {
      "text/html": [
       "<div>\n",
       "<style scoped>\n",
       "    .dataframe tbody tr th:only-of-type {\n",
       "        vertical-align: middle;\n",
       "    }\n",
       "\n",
       "    .dataframe tbody tr th {\n",
       "        vertical-align: top;\n",
       "    }\n",
       "\n",
       "    .dataframe thead th {\n",
       "        text-align: right;\n",
       "    }\n",
       "</style>\n",
       "<table border=\"1\" class=\"dataframe\">\n",
       "  <thead>\n",
       "    <tr style=\"text-align: right;\">\n",
       "      <th></th>\n",
       "      <th>fdc_id</th>\n",
       "      <th>data_type</th>\n",
       "      <th>description</th>\n",
       "      <th>food_category_id</th>\n",
       "      <th>publication_date</th>\n",
       "    </tr>\n",
       "  </thead>\n",
       "  <tbody>\n",
       "    <tr>\n",
       "      <th>0</th>\n",
       "      <td>1105904</td>\n",
       "      <td>branded_food</td>\n",
       "      <td>WESSON Vegetable Oil 1 GAL</td>\n",
       "      <td>NaN</td>\n",
       "      <td>2020-11-13</td>\n",
       "    </tr>\n",
       "    <tr>\n",
       "      <th>1</th>\n",
       "      <td>1105905</td>\n",
       "      <td>branded_food</td>\n",
       "      <td>SWANSON BROTH BEEF</td>\n",
       "      <td>NaN</td>\n",
       "      <td>2020-11-13</td>\n",
       "    </tr>\n",
       "    <tr>\n",
       "      <th>2</th>\n",
       "      <td>1105906</td>\n",
       "      <td>branded_food</td>\n",
       "      <td>CAMPBELL'S SLOW KETTLE SOUP CLAM CHOWDER</td>\n",
       "      <td>NaN</td>\n",
       "      <td>2020-11-13</td>\n",
       "    </tr>\n",
       "    <tr>\n",
       "      <th>3</th>\n",
       "      <td>1105907</td>\n",
       "      <td>branded_food</td>\n",
       "      <td>CAMPBELL'S SLOW KETTLE SOUP CHEESE BROCCOLI</td>\n",
       "      <td>NaN</td>\n",
       "      <td>2020-11-13</td>\n",
       "    </tr>\n",
       "    <tr>\n",
       "      <th>4</th>\n",
       "      <td>1105898</td>\n",
       "      <td>experimental_food</td>\n",
       "      <td>Discrepancy between the Atwater factor predict...</td>\n",
       "      <td>NaN</td>\n",
       "      <td>2020-10-30</td>\n",
       "    </tr>\n",
       "  </tbody>\n",
       "</table>\n",
       "</div>"
      ],
      "text/plain": [
       "    fdc_id          data_type  \\\n",
       "0  1105904       branded_food   \n",
       "1  1105905       branded_food   \n",
       "2  1105906       branded_food   \n",
       "3  1105907       branded_food   \n",
       "4  1105898  experimental_food   \n",
       "\n",
       "                                         description  food_category_id  \\\n",
       "0                         WESSON Vegetable Oil 1 GAL               NaN   \n",
       "1                                 SWANSON BROTH BEEF               NaN   \n",
       "2           CAMPBELL'S SLOW KETTLE SOUP CLAM CHOWDER               NaN   \n",
       "3        CAMPBELL'S SLOW KETTLE SOUP CHEESE BROCCOLI               NaN   \n",
       "4  Discrepancy between the Atwater factor predict...               NaN   \n",
       "\n",
       "  publication_date  \n",
       "0       2020-11-13  \n",
       "1       2020-11-13  \n",
       "2       2020-11-13  \n",
       "3       2020-11-13  \n",
       "4       2020-10-30  "
      ]
     },
     "execution_count": 50,
     "metadata": {},
     "output_type": "execute_result"
    }
   ],
   "source": [
    "# Loading the new dataset\n",
    "new_ds = pd.read_csv(\"food.csv\")\n",
    "\n",
    "# Sanity Check\n",
    "new_ds.head()"
   ]
  },
  {
   "cell_type": "markdown",
   "metadata": {},
   "source": [
    "#### Data Dictionary for the New Dataset\n",
    "\n",
    "1. fdc_id: ID of the food in the food table\n",
    "2. foodClass: For internal use only\n",
    "3. data_type: Type of food data (see Files tab for possible values).\n",
    "4. description: Description of the food\n",
    "5. food_category_id: Id of the food category the food belongs to\n",
    "6. publication_date: Date when the food was published to FoodData Central\n",
    "7. scientific_name: scientific_name\n",
    "8. food_key: A string of characters used to identify both the current and all historical records for a specific food."
   ]
  },
  {
   "cell_type": "code",
   "execution_count": 51,
   "metadata": {
    "scrolled": true
   },
   "outputs": [
    {
     "data": {
      "text/plain": [
       "(1913739, 5)"
      ]
     },
     "execution_count": 51,
     "metadata": {},
     "output_type": "execute_result"
    }
   ],
   "source": [
    "# Shape of the dataset\n",
    "new_ds.shape"
   ]
  },
  {
   "cell_type": "markdown",
   "metadata": {},
   "source": [
    "The dataset has 1913739 rows and 5 columns."
   ]
  },
  {
   "cell_type": "markdown",
   "metadata": {},
   "source": [
    "Now let's merge the two datasets based on the `fdc_id`."
   ]
  },
  {
   "cell_type": "code",
   "execution_count": 52,
   "metadata": {},
   "outputs": [
    {
     "data": {
      "text/html": [
       "<div>\n",
       "<style scoped>\n",
       "    .dataframe tbody tr th:only-of-type {\n",
       "        vertical-align: middle;\n",
       "    }\n",
       "\n",
       "    .dataframe tbody tr th {\n",
       "        vertical-align: top;\n",
       "    }\n",
       "\n",
       "    .dataframe thead th {\n",
       "        text-align: right;\n",
       "    }\n",
       "</style>\n",
       "<table border=\"1\" class=\"dataframe\">\n",
       "  <thead>\n",
       "    <tr style=\"text-align: right;\">\n",
       "      <th></th>\n",
       "      <th>fdc_id</th>\n",
       "      <th>brand_owner</th>\n",
       "      <th>brand_name</th>\n",
       "      <th>subbrand_name</th>\n",
       "      <th>gtin_upc</th>\n",
       "      <th>ingredients</th>\n",
       "      <th>not_a_significant_source_of</th>\n",
       "      <th>serving_size</th>\n",
       "      <th>serving_size_unit</th>\n",
       "      <th>household_serving_fulltext</th>\n",
       "      <th>...</th>\n",
       "      <th>available_date</th>\n",
       "      <th>market_country</th>\n",
       "      <th>discontinued_date</th>\n",
       "      <th>preparation_state_code</th>\n",
       "      <th>trade_channel</th>\n",
       "      <th>short_description</th>\n",
       "      <th>data_type</th>\n",
       "      <th>description</th>\n",
       "      <th>food_category_id</th>\n",
       "      <th>publication_date</th>\n",
       "    </tr>\n",
       "  </thead>\n",
       "  <tbody>\n",
       "    <tr>\n",
       "      <th>0</th>\n",
       "      <td>1105904</td>\n",
       "      <td>Richardson Oilseed Products (US) Limited</td>\n",
       "      <td>NaN</td>\n",
       "      <td>NaN</td>\n",
       "      <td>27000612323</td>\n",
       "      <td>Vegetable Oil</td>\n",
       "      <td>NaN</td>\n",
       "      <td>15.0</td>\n",
       "      <td>ml</td>\n",
       "      <td>NaN</td>\n",
       "      <td>...</td>\n",
       "      <td>2020-11-13</td>\n",
       "      <td>United States</td>\n",
       "      <td>NaN</td>\n",
       "      <td>NaN</td>\n",
       "      <td>NaN</td>\n",
       "      <td>NaN</td>\n",
       "      <td>branded_food</td>\n",
       "      <td>WESSON Vegetable Oil 1 GAL</td>\n",
       "      <td>NaN</td>\n",
       "      <td>2020-11-13</td>\n",
       "    </tr>\n",
       "    <tr>\n",
       "      <th>1</th>\n",
       "      <td>1105905</td>\n",
       "      <td>CAMPBELL SOUP COMPANY</td>\n",
       "      <td>NaN</td>\n",
       "      <td>NaN</td>\n",
       "      <td>51000198808</td>\n",
       "      <td>INGREDIENTS: BEEF STOCK, CONTAINS LESS THAN 2%...</td>\n",
       "      <td>NaN</td>\n",
       "      <td>240.0</td>\n",
       "      <td>ml</td>\n",
       "      <td>NaN</td>\n",
       "      <td>...</td>\n",
       "      <td>2020-11-13</td>\n",
       "      <td>United States</td>\n",
       "      <td>NaN</td>\n",
       "      <td>NaN</td>\n",
       "      <td>NaN</td>\n",
       "      <td>NaN</td>\n",
       "      <td>branded_food</td>\n",
       "      <td>SWANSON BROTH BEEF</td>\n",
       "      <td>NaN</td>\n",
       "      <td>2020-11-13</td>\n",
       "    </tr>\n",
       "    <tr>\n",
       "      <th>2</th>\n",
       "      <td>1105906</td>\n",
       "      <td>CAMPBELL SOUP COMPANY</td>\n",
       "      <td>NaN</td>\n",
       "      <td>NaN</td>\n",
       "      <td>51000213273</td>\n",
       "      <td>INGREDIENTS: CLAM STOCK, POTATOES, CLAMS, CREA...</td>\n",
       "      <td>NaN</td>\n",
       "      <td>440.0</td>\n",
       "      <td>g</td>\n",
       "      <td>NaN</td>\n",
       "      <td>...</td>\n",
       "      <td>2020-11-13</td>\n",
       "      <td>United States</td>\n",
       "      <td>NaN</td>\n",
       "      <td>NaN</td>\n",
       "      <td>NaN</td>\n",
       "      <td>NaN</td>\n",
       "      <td>branded_food</td>\n",
       "      <td>CAMPBELL'S SLOW KETTLE SOUP CLAM CHOWDER</td>\n",
       "      <td>NaN</td>\n",
       "      <td>2020-11-13</td>\n",
       "    </tr>\n",
       "    <tr>\n",
       "      <th>3</th>\n",
       "      <td>1105907</td>\n",
       "      <td>CAMPBELL SOUP COMPANY</td>\n",
       "      <td>NaN</td>\n",
       "      <td>NaN</td>\n",
       "      <td>51000213303</td>\n",
       "      <td>INGREDIENTS: WATER, CREAM, BROCCOLI, CELERY, V...</td>\n",
       "      <td>NaN</td>\n",
       "      <td>440.0</td>\n",
       "      <td>g</td>\n",
       "      <td>NaN</td>\n",
       "      <td>...</td>\n",
       "      <td>2020-11-13</td>\n",
       "      <td>United States</td>\n",
       "      <td>NaN</td>\n",
       "      <td>NaN</td>\n",
       "      <td>NaN</td>\n",
       "      <td>NaN</td>\n",
       "      <td>branded_food</td>\n",
       "      <td>CAMPBELL'S SLOW KETTLE SOUP CHEESE BROCCOLI</td>\n",
       "      <td>NaN</td>\n",
       "      <td>2020-11-13</td>\n",
       "    </tr>\n",
       "    <tr>\n",
       "      <th>4</th>\n",
       "      <td>1105908</td>\n",
       "      <td>CAMPBELL SOUP COMPANY</td>\n",
       "      <td>NaN</td>\n",
       "      <td>NaN</td>\n",
       "      <td>51000224637</td>\n",
       "      <td>INGREDIENTS: CHICKEN STOCK, CONTAINS LESS THAN...</td>\n",
       "      <td>NaN</td>\n",
       "      <td>240.0</td>\n",
       "      <td>ml</td>\n",
       "      <td>NaN</td>\n",
       "      <td>...</td>\n",
       "      <td>2020-11-13</td>\n",
       "      <td>United States</td>\n",
       "      <td>NaN</td>\n",
       "      <td>NaN</td>\n",
       "      <td>NaN</td>\n",
       "      <td>NaN</td>\n",
       "      <td>branded_food</td>\n",
       "      <td>SWANSON BROTH CHICKEN</td>\n",
       "      <td>NaN</td>\n",
       "      <td>2020-11-13</td>\n",
       "    </tr>\n",
       "  </tbody>\n",
       "</table>\n",
       "<p>5 rows × 24 columns</p>\n",
       "</div>"
      ],
      "text/plain": [
       "    fdc_id                               brand_owner brand_name subbrand_name  \\\n",
       "0  1105904  Richardson Oilseed Products (US) Limited        NaN           NaN   \n",
       "1  1105905                     CAMPBELL SOUP COMPANY        NaN           NaN   \n",
       "2  1105906                     CAMPBELL SOUP COMPANY        NaN           NaN   \n",
       "3  1105907                     CAMPBELL SOUP COMPANY        NaN           NaN   \n",
       "4  1105908                     CAMPBELL SOUP COMPANY        NaN           NaN   \n",
       "\n",
       "      gtin_upc                                        ingredients  \\\n",
       "0  27000612323                                      Vegetable Oil   \n",
       "1  51000198808  INGREDIENTS: BEEF STOCK, CONTAINS LESS THAN 2%...   \n",
       "2  51000213273  INGREDIENTS: CLAM STOCK, POTATOES, CLAMS, CREA...   \n",
       "3  51000213303  INGREDIENTS: WATER, CREAM, BROCCOLI, CELERY, V...   \n",
       "4  51000224637  INGREDIENTS: CHICKEN STOCK, CONTAINS LESS THAN...   \n",
       "\n",
       "  not_a_significant_source_of  serving_size serving_size_unit  \\\n",
       "0                         NaN          15.0                ml   \n",
       "1                         NaN         240.0                ml   \n",
       "2                         NaN         440.0                 g   \n",
       "3                         NaN         440.0                 g   \n",
       "4                         NaN         240.0                ml   \n",
       "\n",
       "  household_serving_fulltext  ... available_date market_country  \\\n",
       "0                        NaN  ...     2020-11-13  United States   \n",
       "1                        NaN  ...     2020-11-13  United States   \n",
       "2                        NaN  ...     2020-11-13  United States   \n",
       "3                        NaN  ...     2020-11-13  United States   \n",
       "4                        NaN  ...     2020-11-13  United States   \n",
       "\n",
       "  discontinued_date preparation_state_code trade_channel short_description  \\\n",
       "0               NaN                    NaN           NaN               NaN   \n",
       "1               NaN                    NaN           NaN               NaN   \n",
       "2               NaN                    NaN           NaN               NaN   \n",
       "3               NaN                    NaN           NaN               NaN   \n",
       "4               NaN                    NaN           NaN               NaN   \n",
       "\n",
       "      data_type                                  description food_category_id  \\\n",
       "0  branded_food                   WESSON Vegetable Oil 1 GAL              NaN   \n",
       "1  branded_food                           SWANSON BROTH BEEF              NaN   \n",
       "2  branded_food     CAMPBELL'S SLOW KETTLE SOUP CLAM CHOWDER              NaN   \n",
       "3  branded_food  CAMPBELL'S SLOW KETTLE SOUP CHEESE BROCCOLI              NaN   \n",
       "4  branded_food                        SWANSON BROTH CHICKEN              NaN   \n",
       "\n",
       "  publication_date  \n",
       "0       2020-11-13  \n",
       "1       2020-11-13  \n",
       "2       2020-11-13  \n",
       "3       2020-11-13  \n",
       "4       2020-11-13  \n",
       "\n",
       "[5 rows x 24 columns]"
      ]
     },
     "execution_count": 52,
     "metadata": {},
     "output_type": "execute_result"
    }
   ],
   "source": [
    "# Creating the new dataset\n",
    "df2 = pd.merge(df2, new_ds, on='fdc_id')\n",
    "df2.head()"
   ]
  },
  {
   "cell_type": "markdown",
   "metadata": {},
   "source": [
    "<a id=\"9\"></a> \n",
    "### 2. Dataset 2 EDA"
   ]
  },
  {
   "cell_type": "markdown",
   "metadata": {},
   "source": [
    "Let's look at the shape of the dataset."
   ]
  },
  {
   "cell_type": "code",
   "execution_count": 53,
   "metadata": {
    "scrolled": true
   },
   "outputs": [
    {
     "data": {
      "text/plain": [
       "(1845297, 24)"
      ]
     },
     "execution_count": 53,
     "metadata": {},
     "output_type": "execute_result"
    }
   ],
   "source": [
    "df2.shape"
   ]
  },
  {
   "cell_type": "markdown",
   "metadata": {},
   "source": [
    "There are 1845297 rows and 24 columns in the dataset."
   ]
  },
  {
   "cell_type": "markdown",
   "metadata": {},
   "source": [
    "Lets check if there are any missing values in the dataset."
   ]
  },
  {
   "cell_type": "code",
   "execution_count": 54,
   "metadata": {},
   "outputs": [
    {
     "data": {
      "text/plain": [
       "fdc_id                               0\n",
       "brand_owner                      14418\n",
       "brand_name                      547614\n",
       "subbrand_name                  1758248\n",
       "gtin_upc                             0\n",
       "ingredients                       5393\n",
       "not_a_significant_source_of    1771801\n",
       "serving_size                     10780\n",
       "serving_size_unit                19028\n",
       "household_serving_fulltext     1079658\n",
       "branded_food_category            10572\n",
       "data_source                          0\n",
       "package_weight                 1139264\n",
       "modified_date                       20\n",
       "available_date                       0\n",
       "market_country                       0\n",
       "discontinued_date              1845297\n",
       "preparation_state_code         1806146\n",
       "trade_channel                  1829718\n",
       "short_description              1806030\n",
       "data_type                            0\n",
       "description                          1\n",
       "food_category_id               1845297\n",
       "publication_date                     0\n",
       "dtype: int64"
      ]
     },
     "execution_count": 54,
     "metadata": {},
     "output_type": "execute_result"
    }
   ],
   "source": [
    "df2.isna().sum()"
   ]
  },
  {
   "cell_type": "markdown",
   "metadata": {},
   "source": [
    "There are no multiple missing rows in the dataset, lets drop the columns with too many missing rows."
   ]
  },
  {
   "cell_type": "code",
   "execution_count": 55,
   "metadata": {},
   "outputs": [
    {
     "data": {
      "text/html": [
       "<div>\n",
       "<style scoped>\n",
       "    .dataframe tbody tr th:only-of-type {\n",
       "        vertical-align: middle;\n",
       "    }\n",
       "\n",
       "    .dataframe tbody tr th {\n",
       "        vertical-align: top;\n",
       "    }\n",
       "\n",
       "    .dataframe thead th {\n",
       "        text-align: right;\n",
       "    }\n",
       "</style>\n",
       "<table border=\"1\" class=\"dataframe\">\n",
       "  <thead>\n",
       "    <tr style=\"text-align: right;\">\n",
       "      <th></th>\n",
       "      <th>fdc_id</th>\n",
       "      <th>brand_owner</th>\n",
       "      <th>brand_name</th>\n",
       "      <th>gtin_upc</th>\n",
       "      <th>ingredients</th>\n",
       "      <th>branded_food_category</th>\n",
       "      <th>description</th>\n",
       "    </tr>\n",
       "  </thead>\n",
       "  <tbody>\n",
       "    <tr>\n",
       "      <th>0</th>\n",
       "      <td>1105904</td>\n",
       "      <td>Richardson Oilseed Products (US) Limited</td>\n",
       "      <td>NaN</td>\n",
       "      <td>27000612323</td>\n",
       "      <td>Vegetable Oil</td>\n",
       "      <td>Oils Edible</td>\n",
       "      <td>WESSON Vegetable Oil 1 GAL</td>\n",
       "    </tr>\n",
       "    <tr>\n",
       "      <th>1</th>\n",
       "      <td>1105905</td>\n",
       "      <td>CAMPBELL SOUP COMPANY</td>\n",
       "      <td>NaN</td>\n",
       "      <td>51000198808</td>\n",
       "      <td>INGREDIENTS: BEEF STOCK, CONTAINS LESS THAN 2%...</td>\n",
       "      <td>Herbs/Spices/Extracts</td>\n",
       "      <td>SWANSON BROTH BEEF</td>\n",
       "    </tr>\n",
       "  </tbody>\n",
       "</table>\n",
       "</div>"
      ],
      "text/plain": [
       "    fdc_id                               brand_owner brand_name     gtin_upc  \\\n",
       "0  1105904  Richardson Oilseed Products (US) Limited        NaN  27000612323   \n",
       "1  1105905                     CAMPBELL SOUP COMPANY        NaN  51000198808   \n",
       "\n",
       "                                         ingredients  branded_food_category  \\\n",
       "0                                      Vegetable Oil            Oils Edible   \n",
       "1  INGREDIENTS: BEEF STOCK, CONTAINS LESS THAN 2%...  Herbs/Spices/Extracts   \n",
       "\n",
       "                  description  \n",
       "0  WESSON Vegetable Oil 1 GAL  \n",
       "1          SWANSON BROTH BEEF  "
      ]
     },
     "execution_count": 55,
     "metadata": {},
     "output_type": "execute_result"
    }
   ],
   "source": [
    "# Droping irreleveant columns\n",
    "df2 = df2.drop(['discontinued_date','package_weight', 'preparation_state_code', \n",
    "                'trade_channel', 'short_description','subbrand_name','not_a_significant_source_of',\n",
    "                'serving_size', 'serving_size_unit', 'household_serving_fulltext', 'package_weight', \n",
    "                'modified_date', 'discontinued_date', 'data_source', 'available_date', \"market_country\", \n",
    "                \"food_category_id\", \"publication_date\", \"data_type\"\n",
    "               ], axis=1)\n",
    "df2.head(2)"
   ]
  },
  {
   "cell_type": "markdown",
   "metadata": {},
   "source": [
    "The irrelevant columns have been dropped and lets look at the missing values again."
   ]
  },
  {
   "cell_type": "code",
   "execution_count": 56,
   "metadata": {
    "scrolled": true
   },
   "outputs": [
    {
     "data": {
      "text/plain": [
       "fdc_id                        0\n",
       "brand_owner               14418\n",
       "brand_name               547614\n",
       "gtin_upc                      0\n",
       "ingredients                5393\n",
       "branded_food_category     10572\n",
       "description                   1\n",
       "dtype: int64"
      ]
     },
     "execution_count": 56,
     "metadata": {},
     "output_type": "execute_result"
    }
   ],
   "source": [
    "df2.isna().sum()"
   ]
  },
  {
   "cell_type": "markdown",
   "metadata": {},
   "source": [
    "Let's drop the rows with missing infomation as the dataset is already quite large."
   ]
  },
  {
   "cell_type": "code",
   "execution_count": 57,
   "metadata": {},
   "outputs": [],
   "source": [
    "df2 = df2.dropna()"
   ]
  },
  {
   "cell_type": "code",
   "execution_count": 58,
   "metadata": {
    "scrolled": true
   },
   "outputs": [
    {
     "data": {
      "text/plain": [
       "fdc_id                   0\n",
       "brand_owner              0\n",
       "brand_name               0\n",
       "gtin_upc                 0\n",
       "ingredients              0\n",
       "branded_food_category    0\n",
       "description              0\n",
       "dtype: int64"
      ]
     },
     "execution_count": 58,
     "metadata": {},
     "output_type": "execute_result"
    }
   ],
   "source": [
    "# Sanity Check\n",
    "df2.isna().sum()"
   ]
  },
  {
   "cell_type": "code",
   "execution_count": 59,
   "metadata": {
    "scrolled": true
   },
   "outputs": [
    {
     "data": {
      "text/plain": [
       "(1282123, 7)"
      ]
     },
     "execution_count": 59,
     "metadata": {},
     "output_type": "execute_result"
    }
   ],
   "source": [
    "df2.shape"
   ]
  },
  {
   "cell_type": "markdown",
   "metadata": {},
   "source": [
    "The dataset has no more missing values"
   ]
  },
  {
   "cell_type": "markdown",
   "metadata": {},
   "source": [
    "### Case Sensitivity"
   ]
  },
  {
   "cell_type": "markdown",
   "metadata": {},
   "source": [
    "Because the dataset has a lot of string values let's double check for case sensitivity as it is common in strings. This is dangerous as the same string will be counted as different strings due to different cases. Lets explore in the dataset using `brand_name` as an example. "
   ]
  },
  {
   "cell_type": "markdown",
   "metadata": {},
   "source": [
    "Using Honeysuckle White brand as an example."
   ]
  },
  {
   "cell_type": "code",
   "execution_count": 61,
   "metadata": {},
   "outputs": [
    {
     "data": {
      "text/plain": [
       "(202, 11)"
      ]
     },
     "execution_count": 61,
     "metadata": {},
     "output_type": "execute_result"
    }
   ],
   "source": [
    "# Lower Case \n",
    "join_ds[join_ds['brand_name'] == 'Honeysuckle White'].shape"
   ]
  },
  {
   "cell_type": "markdown",
   "metadata": {},
   "source": [
    "There are 202 rows with the brand \"Honeysuckle White\""
   ]
  },
  {
   "cell_type": "code",
   "execution_count": 62,
   "metadata": {
    "scrolled": true
   },
   "outputs": [
    {
     "data": {
      "text/plain": [
       "(125, 11)"
      ]
     },
     "execution_count": 62,
     "metadata": {},
     "output_type": "execute_result"
    }
   ],
   "source": [
    "# Higher case\n",
    "join_ds[join_ds['brand_name'] == 'HONEYSUCKLE WHITE'].shape"
   ]
  },
  {
   "cell_type": "markdown",
   "metadata": {},
   "source": [
    "There are 125 rows with the brand \"HONEYSUCKLE WHITE\""
   ]
  },
  {
   "cell_type": "code",
   "execution_count": 63,
   "metadata": {},
   "outputs": [
    {
     "data": {
      "text/plain": [
       "(0, 11)"
      ]
     },
     "execution_count": 63,
     "metadata": {},
     "output_type": "execute_result"
    }
   ],
   "source": [
    "# Last case\n",
    "join_ds[join_ds['brand_name'] == 'honeysuckle white'].shape"
   ]
  },
  {
   "cell_type": "markdown",
   "metadata": {},
   "source": [
    "There are 0 rows with the brand \"honeysuckle white\""
   ]
  },
  {
   "cell_type": "markdown",
   "metadata": {},
   "source": [
    "From this we can see all the columns containing strings need to be made the same case. Let's lower the case of `description`, `brand_name`, `brand_owner`, and `branded_food_category`."
   ]
  },
  {
   "cell_type": "code",
   "execution_count": 69,
   "metadata": {},
   "outputs": [],
   "source": [
    "# Lowering the case of brand_name\n",
    "join_ds['brand_name'] = join_ds['brand_name'].str.lower()\n",
    "\n",
    "# Lowering the case of brand_owner\n",
    "join_ds['brand_owner'] = join_ds['brand_owner'].str.lower()\n",
    "\n",
    "# Lowering the case of branded_food_category\n",
    "join_ds['branded_food_category'] = join_ds['branded_food_category'].str.lower()\n",
    "\n",
    "# Lowering the case of description\n",
    "join_ds['description'] = join_ds['description'].str.lower()\n",
    "\n",
    "# Lowering the case of ingredients\n",
    "join_ds['description'] = join_ds['ingredients'].str.lower()"
   ]
  },
  {
   "cell_type": "code",
   "execution_count": 70,
   "metadata": {
    "scrolled": true
   },
   "outputs": [
    {
     "data": {
      "text/html": [
       "<div>\n",
       "<style scoped>\n",
       "    .dataframe tbody tr th:only-of-type {\n",
       "        vertical-align: middle;\n",
       "    }\n",
       "\n",
       "    .dataframe tbody tr th {\n",
       "        vertical-align: top;\n",
       "    }\n",
       "\n",
       "    .dataframe thead th {\n",
       "        text-align: right;\n",
       "    }\n",
       "</style>\n",
       "<table border=\"1\" class=\"dataframe\">\n",
       "  <thead>\n",
       "    <tr style=\"text-align: right;\">\n",
       "      <th></th>\n",
       "      <th>fdc_id</th>\n",
       "      <th>brand_owner</th>\n",
       "      <th>brand_name</th>\n",
       "      <th>gtin_upc</th>\n",
       "      <th>ingredients</th>\n",
       "      <th>branded_food_category</th>\n",
       "      <th>market_country</th>\n",
       "      <th>data_type</th>\n",
       "      <th>description</th>\n",
       "      <th>food_category_id</th>\n",
       "      <th>publication_date</th>\n",
       "    </tr>\n",
       "  </thead>\n",
       "  <tbody>\n",
       "    <tr>\n",
       "      <th>0</th>\n",
       "      <td>1847363</td>\n",
       "      <td>cargill incorporated/honeysuckle white</td>\n",
       "      <td>honeysuckle white</td>\n",
       "      <td>642205534517</td>\n",
       "      <td>All Natural White Turkey, Natural Flavoring</td>\n",
       "      <td>meat/poultry/other animals  unprepared/unproce...</td>\n",
       "      <td>United States</td>\n",
       "      <td>branded_food</td>\n",
       "      <td>all natural white turkey, natural flavoring</td>\n",
       "      <td>NaN</td>\n",
       "      <td>2021-07-29</td>\n",
       "    </tr>\n",
       "    <tr>\n",
       "      <th>1</th>\n",
       "      <td>1847364</td>\n",
       "      <td>cargill incorporated/honeysuckle white</td>\n",
       "      <td>honeysuckle white</td>\n",
       "      <td>642205534500</td>\n",
       "      <td>All Natural Turkey, Natural Flavoing</td>\n",
       "      <td>meat/poultry/other animals  unprepared/unproce...</td>\n",
       "      <td>United States</td>\n",
       "      <td>branded_food</td>\n",
       "      <td>all natural turkey, natural flavoing</td>\n",
       "      <td>NaN</td>\n",
       "      <td>2021-07-29</td>\n",
       "    </tr>\n",
       "    <tr>\n",
       "      <th>2</th>\n",
       "      <td>1847365</td>\n",
       "      <td>cargill meat solutions corp.</td>\n",
       "      <td>honeysuckle white</td>\n",
       "      <td>90642205500218</td>\n",
       "      <td>Turkey with up to 6% absorbed water</td>\n",
       "      <td>meat/poultry/other animals  unprepared/unproce...</td>\n",
       "      <td>United States</td>\n",
       "      <td>branded_food</td>\n",
       "      <td>turkey with up to 6% absorbed water</td>\n",
       "      <td>NaN</td>\n",
       "      <td>2021-07-29</td>\n",
       "    </tr>\n",
       "    <tr>\n",
       "      <th>3</th>\n",
       "      <td>1847366</td>\n",
       "      <td>cargill meat solutions corp.</td>\n",
       "      <td>honeysuckle white</td>\n",
       "      <td>90642205501499</td>\n",
       "      <td>Turkey Wings with up to 6% absorbed water</td>\n",
       "      <td>meat/poultry/other animals  unprepared/unproce...</td>\n",
       "      <td>United States</td>\n",
       "      <td>branded_food</td>\n",
       "      <td>turkey wings with up to 6% absorbed water</td>\n",
       "      <td>NaN</td>\n",
       "      <td>2021-07-29</td>\n",
       "    </tr>\n",
       "    <tr>\n",
       "      <th>4</th>\n",
       "      <td>1847367</td>\n",
       "      <td>cargill meat solutions corp.</td>\n",
       "      <td>honeysuckle white</td>\n",
       "      <td>90642205501529</td>\n",
       "      <td>Turkey containing up to 6% absorbed water</td>\n",
       "      <td>meat/poultry/other animals  unprepared/unproce...</td>\n",
       "      <td>United States</td>\n",
       "      <td>branded_food</td>\n",
       "      <td>turkey containing up to 6% absorbed water</td>\n",
       "      <td>NaN</td>\n",
       "      <td>2021-07-29</td>\n",
       "    </tr>\n",
       "  </tbody>\n",
       "</table>\n",
       "</div>"
      ],
      "text/plain": [
       "    fdc_id                             brand_owner         brand_name  \\\n",
       "0  1847363  cargill incorporated/honeysuckle white  honeysuckle white   \n",
       "1  1847364  cargill incorporated/honeysuckle white  honeysuckle white   \n",
       "2  1847365            cargill meat solutions corp.  honeysuckle white   \n",
       "3  1847366            cargill meat solutions corp.  honeysuckle white   \n",
       "4  1847367            cargill meat solutions corp.  honeysuckle white   \n",
       "\n",
       "         gtin_upc                                  ingredients  \\\n",
       "0    642205534517  All Natural White Turkey, Natural Flavoring   \n",
       "1    642205534500         All Natural Turkey, Natural Flavoing   \n",
       "2  90642205500218          Turkey with up to 6% absorbed water   \n",
       "3  90642205501499    Turkey Wings with up to 6% absorbed water   \n",
       "4  90642205501529    Turkey containing up to 6% absorbed water   \n",
       "\n",
       "                               branded_food_category market_country  \\\n",
       "0  meat/poultry/other animals  unprepared/unproce...  United States   \n",
       "1  meat/poultry/other animals  unprepared/unproce...  United States   \n",
       "2  meat/poultry/other animals  unprepared/unproce...  United States   \n",
       "3  meat/poultry/other animals  unprepared/unproce...  United States   \n",
       "4  meat/poultry/other animals  unprepared/unproce...  United States   \n",
       "\n",
       "      data_type                                  description  \\\n",
       "0  branded_food  all natural white turkey, natural flavoring   \n",
       "1  branded_food         all natural turkey, natural flavoing   \n",
       "2  branded_food          turkey with up to 6% absorbed water   \n",
       "3  branded_food    turkey wings with up to 6% absorbed water   \n",
       "4  branded_food    turkey containing up to 6% absorbed water   \n",
       "\n",
       "   food_category_id publication_date  \n",
       "0               NaN       2021-07-29  \n",
       "1               NaN       2021-07-29  \n",
       "2               NaN       2021-07-29  \n",
       "3               NaN       2021-07-29  \n",
       "4               NaN       2021-07-29  "
      ]
     },
     "execution_count": 70,
     "metadata": {},
     "output_type": "execute_result"
    }
   ],
   "source": [
    "# Sanity Check \n",
    "join_ds.head()"
   ]
  },
  {
   "cell_type": "code",
   "execution_count": 71,
   "metadata": {},
   "outputs": [
    {
     "data": {
      "text/plain": [
       "(327, 11)"
      ]
     },
     "execution_count": 71,
     "metadata": {},
     "output_type": "execute_result"
    }
   ],
   "source": [
    "# Sanity Check to see if the brand 'honeysuckle white' is being counted correctly\n",
    "join_ds[join_ds['brand_name'] == 'honeysuckle white'].shape"
   ]
  },
  {
   "cell_type": "markdown",
   "metadata": {},
   "source": [
    "From this we can see the case lowering is working and effective"
   ]
  },
  {
   "cell_type": "markdown",
   "metadata": {},
   "source": [
    "<a id=\"8\"></a> \n",
    "### 2a. Dataset 2 Visuals"
   ]
  },
  {
   "cell_type": "markdown",
   "metadata": {},
   "source": [
    "Lets create bargraphs to see the most common `brand_owner`, `branded_food_category`, and `brand_name`."
   ]
  },
  {
   "cell_type": "markdown",
   "metadata": {},
   "source": [
    "##### The first bar graph will be for the top 15 brands."
   ]
  },
  {
   "cell_type": "code",
   "execution_count": 74,
   "metadata": {},
   "outputs": [
    {
     "data": {
      "text/html": [
       "<div>\n",
       "<style scoped>\n",
       "    .dataframe tbody tr th:only-of-type {\n",
       "        vertical-align: middle;\n",
       "    }\n",
       "\n",
       "    .dataframe tbody tr th {\n",
       "        vertical-align: top;\n",
       "    }\n",
       "\n",
       "    .dataframe thead th {\n",
       "        text-align: right;\n",
       "    }\n",
       "</style>\n",
       "<table border=\"1\" class=\"dataframe\">\n",
       "  <thead>\n",
       "    <tr style=\"text-align: right;\">\n",
       "      <th></th>\n",
       "      <th>brand_name</th>\n",
       "      <th>count</th>\n",
       "    </tr>\n",
       "  </thead>\n",
       "  <tbody>\n",
       "    <tr>\n",
       "      <th>0</th>\n",
       "      <td>great value</td>\n",
       "      <td>20508</td>\n",
       "    </tr>\n",
       "    <tr>\n",
       "      <th>1</th>\n",
       "      <td>meijer</td>\n",
       "      <td>18502</td>\n",
       "    </tr>\n",
       "  </tbody>\n",
       "</table>\n",
       "</div>"
      ],
      "text/plain": [
       "    brand_name  count\n",
       "0  great value  20508\n",
       "1       meijer  18502"
      ]
     },
     "execution_count": 74,
     "metadata": {},
     "output_type": "execute_result"
    }
   ],
   "source": [
    "# Get the top 15 brands by count\n",
    "top_15_brands = join_ds['brand_name'].value_counts()[:15].index.tolist()\n",
    "\n",
    "# Filter the DataFrame to include only the top 15 brands\n",
    "top_15_brands_df = join_ds[join_ds['brand_name'].isin(top_15_brands)]\n",
    "\n",
    "# Create a new DataFrame to store brand counts\n",
    "brand_counts = top_15_brands_df['brand_name'].value_counts().reset_index()\n",
    "brand_counts.columns = ['brand_name', 'count']\n",
    "\n",
    "brand_counts.head(2)"
   ]
  },
  {
   "cell_type": "code",
   "execution_count": 75,
   "metadata": {
    "scrolled": true
   },
   "outputs": [
    {
     "data": {
      "image/png": "[encoded data removed]",
      "text/plain": [
       "<Figure size 1900x1000 with 1 Axes>"
      ]
     },
     "metadata": {},
     "output_type": "display_data"
    }
   ],
   "source": [
    "sns.set(font_scale=1.9)\n",
    "plt.figure(figsize=(19, 10))\n",
    "sns.barplot(y='brand_name', x='count', data=brand_counts, palette='coolwarm')\n",
    "plt.xlabel(\"Number of Brands\")\n",
    "plt.ylabel(\"Brand Names\")\n",
    "plt.title(\"The Top 15 Brands in the DataFrame\")\n",
    "plt.tight_layout()\n",
    "plt.show()"
   ]
  },
  {
   "cell_type": "markdown",
   "metadata": {},
   "source": [
    "We can see the top brand is Great Value, Meijer and Wegmans."
   ]
  },
  {
   "cell_type": "markdown",
   "metadata": {},
   "source": [
    "##### Let's create a graph to see the 10 most common `branded_food_category`"
   ]
  },
  {
   "cell_type": "code",
   "execution_count": 76,
   "metadata": {},
   "outputs": [
    {
     "data": {
      "text/plain": [
       "(10, 2)"
      ]
     },
     "execution_count": 76,
     "metadata": {},
     "output_type": "execute_result"
    }
   ],
   "source": [
    "# Get the top 20 category by count\n",
    "top_10_category= join_ds['branded_food_category'].value_counts()[:10].index.tolist()\n",
    "\n",
    "# Filter the DataFrame to include only the top 20 food category\n",
    "top_10_category_df = join_ds[join_ds['branded_food_category'].isin(top_10_category)]\n",
    "\n",
    "# Create a new DataFrame to store category counts\n",
    "category_counts = top_10_category_df['branded_food_category'].value_counts().reset_index()\n",
    "category_counts.columns = ['branded_food_category', 'count']\n",
    "\n",
    "category_counts.shape"
   ]
  },
  {
   "cell_type": "code",
   "execution_count": 77,
   "metadata": {
    "scrolled": true
   },
   "outputs": [
    {
     "data": {
      "image/png": "[encoded data removed]",
      "text/plain": [
       "<Figure size 1900x1000 with 1 Axes>"
      ]
     },
     "metadata": {},
     "output_type": "display_data"
    }
   ],
   "source": [
    "sns.set(font_scale=1.9)\n",
    "plt.figure(figsize=(19, 10))\n",
    "sns.barplot(y='branded_food_category', x='count', data=category_counts, palette='coolwarm')\n",
    "plt.xlabel(\"Count of Food Categories\")\n",
    "plt.ylabel(\"Food Categories\", loc='center')\n",
    "plt.title(\"The Top 10 Food Categories in the DataFrame\", loc='left')\n",
    "plt.tight_layout()\n",
    "plt.show()"
   ]
  },
  {
   "cell_type": "markdown",
   "metadata": {},
   "source": [
    "We can see the top food categories are Popcorn,Peanuts,Seeds, & Realted Snacks, Candy, and Cheese."
   ]
  },
  {
   "cell_type": "markdown",
   "metadata": {},
   "source": [
    "##### Let's create a graph to see the 10 most common `brand_owner`"
   ]
  },
  {
   "cell_type": "code",
   "execution_count": 78,
   "metadata": {},
   "outputs": [
    {
     "data": {
      "text/plain": [
       "(10, 2)"
      ]
     },
     "execution_count": 78,
     "metadata": {},
     "output_type": "execute_result"
    }
   ],
   "source": [
    "# Get the top 20 owner by count\n",
    "top_10_owner= join_ds['brand_owner'].value_counts()[:10].index.tolist()\n",
    "\n",
    "# Filter the DataFrame to include only the top 20 food owner\n",
    "top_10_owner_df = join_ds[join_ds['brand_owner'].isin(top_10_owner)]\n",
    "\n",
    "# Create a new DataFrame to store owner counts\n",
    "owner_counts = top_10_owner_df['brand_owner'].value_counts().reset_index()\n",
    "owner_counts.columns = ['brand_owner', 'count']\n",
    "\n",
    "owner_counts.shape"
   ]
  },
  {
   "cell_type": "code",
   "execution_count": 79,
   "metadata": {
    "scrolled": false
   },
   "outputs": [
    {
     "data": {
      "image/png": "[encoded data removed]",
      "text/plain": [
       "<Figure size 1900x1000 with 1 Axes>"
      ]
     },
     "metadata": {},
     "output_type": "display_data"
    }
   ],
   "source": [
    "sns.set(font_scale=1.9)\n",
    "plt.figure(figsize=(19, 10))\n",
    "sns.barplot(y='brand_owner', x='count', data=owner_counts, palette='coolwarm')\n",
    "plt.xlabel(\"Count of Food Categories\")\n",
    "plt.ylabel(\"Brand Owner\", loc='center')\n",
    "plt.title(\"The Top 10 Brand Owners in the DataFrame\", loc='left')\n",
    "plt.tight_layout()\n",
    "plt.show()"
   ]
  },
  {
   "cell_type": "markdown",
   "metadata": {},
   "source": [
    "We can see the top brand owners are Wal-mart Stores, Target, and Safeway."
   ]
  },
  {
   "cell_type": "markdown",
   "metadata": {},
   "source": [
    "\n",
    "-------\n",
    "\n",
    "-----"
   ]
  },
  {
   "cell_type": "markdown",
   "metadata": {},
   "source": [
    "<a id=\"9\"></a> \n",
    "# Preprocessing"
   ]
  },
  {
   "cell_type": "markdown",
   "metadata": {},
   "source": [
    "For the modeling we will need to create a new column to indicate if the product is gluten free based on the ingredient list and the dataset of gluten containing ingredients."
   ]
  },
  {
   "cell_type": "markdown",
   "metadata": {},
   "source": [
    "#### Function called my_tokenizer"
   ]
  },
  {
   "cell_type": "markdown",
   "metadata": {},
   "source": [
    "First lets create a function that takes a string containing a list of ingredients as input. It processes this input list to tokenize and clean it.\n",
    "\n",
    "1. sentence = sentence.replace('-', ' ').lower(): This line replaces hyphens with spaces and converts the entire list of ingredients to lowercase.\n",
    "\n",
    "2. listofwords = re.split(r'[,\\(\\)\\[\\]]', sentence): This line splits the list of ingredients into a list of words. It splits the list at commas, parentheses, square brackets, and round brackets. This step essentially separates the ingredients into individual words and removes the listed punctuation.\n",
    "\n",
    "3. listofprocessed_words = []: Initializes an empty list to store the processed words.\n",
    "\n",
    "4. word = word.strip(): Removes leading and trailing whitespace from the word.\n",
    "\n",
    "5. if word != '' and '.' not in word and 'ingredient' not in word:: Checks if the word is not empty, does not contain a period (.), and does not contain the substring 'ingredient'.\n",
    "\n",
    "6. singular_word = wordnet.morphy(word): Tries to find the singular form of the word. If a singular form is found, it's added to listofprocessed_words. If not, the original word is added.\n",
    "\n",
    "7. Finally, the function returns listofprocessed_words, which is a list of cleaned and tokenized words extracted from the input list of ingredients with hyphens removed, in lowercase, and with some common words like \"ingredient\" filtered out."
   ]
  },
  {
   "cell_type": "code",
   "execution_count": 81,
   "metadata": {
    "scrolled": false
   },
   "outputs": [],
   "source": [
    "def my_tokenizer(sentence):\n",
    "    # Remove hyphens and set to lowercase\n",
    "    sentence = sentence.replace('-', ' ').lower()\n",
    "\n",
    "    # Tokenize sentence into words\n",
    "    listofwords = re.split(r'[,\\(\\)\\[\\]]', sentence)\n",
    "    listofprocessed_words = []\n",
    "\n",
    "    # Remove empty strings and leading/trailing whitespace\n",
    "    for word in listofwords:\n",
    "        word = word.strip()\n",
    "        if word != '' and '.' not in word and 'ingredient' not in word:\n",
    "            singular_word = wordnet.morphy(word)\n",
    "            if singular_word:\n",
    "                listofprocessed_words.append(singular_word)\n",
    "            else:\n",
    "                listofprocessed_words.append(word)\n",
    "\n",
    "    return listofprocessed_words "
   ]
  },
  {
   "cell_type": "code",
   "execution_count": 82,
   "metadata": {},
   "outputs": [
    {
     "name": "stdout",
     "output_type": "stream",
     "text": [
      "['gluten free flour', 'tapioca starch', 'white rice flour', 'sorghum flour', 'corn starch', 'palm oil', 'water', 'eggs', 'sugar', 'salt', 'xanthan gum', 'cherry filling', 'cherry', 'water', 'sugar', 'corn syrup', 'modified food starch', 'vegetable gum', 'citric acid', 'vegetable extract']\n"
     ]
    }
   ],
   "source": [
    "# Sanity Check\n",
    "input_ingredient_list = \"GLUTEN FREE FLOUR (TAPIOCA STARCH, WHITE RICE FLOUR, SORGHUM FLOUR, CORN STARCH), PALM OIL, WATER, EGGS, SUGAR, SALT, XANTHAN GUM, CHERRY FILLING (CHERRIES, WATER, SUGAR, CORN SYRUP, MODIFIED FOOD STARCH, VEGETABLE GUM, CITRIC ACID, VEGETABLE EXTRACT).\"\n",
    "preprocessed_tokens = my_tokenizer(input_ingredient_list)\n",
    "print(preprocessed_tokens)"
   ]
  },
  {
   "cell_type": "markdown",
   "metadata": {},
   "source": [
    "From the sanity check we can see the function works."
   ]
  },
  {
   "cell_type": "markdown",
   "metadata": {},
   "source": [
    "#### Function called is_gluten_free"
   ]
  },
  {
   "cell_type": "markdown",
   "metadata": {},
   "source": [
    "The is_gluten_free function is designed to check whether a list of ingredients is gluten-free or not. It does this by comparing the ingredients in the input list to a list of gluten-containing ingredients stored in a dataset named df_gluten. Here's how the function works:\n",
    "\n",
    "1. my_tokenizer(lst): Using my_tokenizer function to tokenize and clean the input list of ingredients lst. This step converts the input list into a list of processed words following the rules specified in the my_tokenizer function.\n",
    "\n",
    "2. token in list(df_gluten['Ingredient']): This part of the code checks if any of the processed words in the input list of ingredients are present in the 'Ingredient' column of the df_gluten dataset.\n",
    "\n",
    "3. if any(...): The any function is used to check if at least one ingredient in the input list matches an ingredient in the gluten list. If any match is found, it means that the input list contains a gluten-containing ingredient, and the function returns 0, indicating that it's not gluten-free.\n",
    "\n",
    "4. Else the function returns 1, indicating that the input list is gluten-free."
   ]
  },
  {
   "cell_type": "code",
   "execution_count": 83,
   "metadata": {},
   "outputs": [],
   "source": [
    "def is_gluten_free(lst):\n",
    "    # Checking if any ingredient in the input list is the same as an ingredient in the gluten list.\n",
    "    if any(token in list(df_gluten['Ingredient']) for token in my_tokenizer(lst)):\n",
    "        return 0  # Not gluten-free\n",
    "    else:\n",
    "        return 1  # Gluten-free"
   ]
  },
  {
   "cell_type": "markdown",
   "metadata": {},
   "source": [
    "Let's check if the function works by creating a list containing gluten ingredients"
   ]
  },
  {
   "cell_type": "code",
   "execution_count": 48,
   "metadata": {
    "scrolled": false
   },
   "outputs": [
    {
     "data": {
      "text/plain": [
       "1"
      ]
     },
     "execution_count": 48,
     "metadata": {},
     "output_type": "execute_result"
    }
   ],
   "source": [
    "is_gluten_free(input_ingredient_list)"
   ]
  },
  {
   "cell_type": "markdown",
   "metadata": {
    "scrolled": false
   },
   "source": [
    "The function correctly classified the list as gluten free"
   ]
  },
  {
   "cell_type": "code",
   "execution_count": 49,
   "metadata": {},
   "outputs": [
    {
     "data": {
      "text/plain": [
       "0"
      ]
     },
     "execution_count": 49,
     "metadata": {},
     "output_type": "execute_result"
    }
   ],
   "source": [
    "# Example for not gluten-free\n",
    "\n",
    "input_ingredient_list_nogf = \"FLOUR (Wheat flour, WHITE RICE FLOUR, SORGHUM FLOUR, CORN STARCH), PALM OIL,)\"\n",
    "\n",
    "is_gluten_free(input_ingredient_list_nogf)"
   ]
  },
  {
   "cell_type": "markdown",
   "metadata": {},
   "source": [
    "The function correctly classified the list as not gluten free"
   ]
  },
  {
   "cell_type": "markdown",
   "metadata": {},
   "source": [
    "The fuction is working at classify correctly."
   ]
  },
  {
   "cell_type": "markdown",
   "metadata": {},
   "source": [
    "#### Adding the new column to the dataset"
   ]
  },
  {
   "cell_type": "markdown",
   "metadata": {},
   "source": [
    "Adding a new column in the dataset to indicate if a product is gluten-free based on the `my_tokenizer` and `is_gluten_free` functions made above."
   ]
  },
  {
   "cell_type": "code",
   "execution_count": 85,
   "metadata": {},
   "outputs": [],
   "source": [
    "# The function is applied to the entire dataset based on the ingredient column\n",
    "join_ds[\"gluten_free?\"] = join_ds['ingredients'].apply(is_gluten_free)"
   ]
  },
  {
   "cell_type": "code",
   "execution_count": 87,
   "metadata": {
    "scrolled": true
   },
   "outputs": [
    {
     "data": {
      "text/html": [
       "<div>\n",
       "<style scoped>\n",
       "    .dataframe tbody tr th:only-of-type {\n",
       "        vertical-align: middle;\n",
       "    }\n",
       "\n",
       "    .dataframe tbody tr th {\n",
       "        vertical-align: top;\n",
       "    }\n",
       "\n",
       "    .dataframe thead th {\n",
       "        text-align: right;\n",
       "    }\n",
       "</style>\n",
       "<table border=\"1\" class=\"dataframe\">\n",
       "  <thead>\n",
       "    <tr style=\"text-align: right;\">\n",
       "      <th></th>\n",
       "      <th>fdc_id</th>\n",
       "      <th>brand_owner</th>\n",
       "      <th>brand_name</th>\n",
       "      <th>gtin_upc</th>\n",
       "      <th>ingredients</th>\n",
       "      <th>branded_food_category</th>\n",
       "      <th>market_country</th>\n",
       "      <th>data_type</th>\n",
       "      <th>description</th>\n",
       "      <th>food_category_id</th>\n",
       "      <th>publication_date</th>\n",
       "      <th>gluten_free?</th>\n",
       "    </tr>\n",
       "  </thead>\n",
       "  <tbody>\n",
       "    <tr>\n",
       "      <th>0</th>\n",
       "      <td>1847363</td>\n",
       "      <td>cargill incorporated/honeysuckle white</td>\n",
       "      <td>honeysuckle white</td>\n",
       "      <td>642205534517</td>\n",
       "      <td>All Natural White Turkey, Natural Flavoring</td>\n",
       "      <td>meat/poultry/other animals  unprepared/unproce...</td>\n",
       "      <td>United States</td>\n",
       "      <td>branded_food</td>\n",
       "      <td>all natural white turkey, natural flavoring</td>\n",
       "      <td>NaN</td>\n",
       "      <td>2021-07-29</td>\n",
       "      <td>1</td>\n",
       "    </tr>\n",
       "    <tr>\n",
       "      <th>1</th>\n",
       "      <td>1847364</td>\n",
       "      <td>cargill incorporated/honeysuckle white</td>\n",
       "      <td>honeysuckle white</td>\n",
       "      <td>642205534500</td>\n",
       "      <td>All Natural Turkey, Natural Flavoing</td>\n",
       "      <td>meat/poultry/other animals  unprepared/unproce...</td>\n",
       "      <td>United States</td>\n",
       "      <td>branded_food</td>\n",
       "      <td>all natural turkey, natural flavoing</td>\n",
       "      <td>NaN</td>\n",
       "      <td>2021-07-29</td>\n",
       "      <td>1</td>\n",
       "    </tr>\n",
       "    <tr>\n",
       "      <th>2</th>\n",
       "      <td>1847365</td>\n",
       "      <td>cargill meat solutions corp.</td>\n",
       "      <td>honeysuckle white</td>\n",
       "      <td>90642205500218</td>\n",
       "      <td>Turkey with up to 6% absorbed water</td>\n",
       "      <td>meat/poultry/other animals  unprepared/unproce...</td>\n",
       "      <td>United States</td>\n",
       "      <td>branded_food</td>\n",
       "      <td>turkey with up to 6% absorbed water</td>\n",
       "      <td>NaN</td>\n",
       "      <td>2021-07-29</td>\n",
       "      <td>1</td>\n",
       "    </tr>\n",
       "    <tr>\n",
       "      <th>3</th>\n",
       "      <td>1847366</td>\n",
       "      <td>cargill meat solutions corp.</td>\n",
       "      <td>honeysuckle white</td>\n",
       "      <td>90642205501499</td>\n",
       "      <td>Turkey Wings with up to 6% absorbed water</td>\n",
       "      <td>meat/poultry/other animals  unprepared/unproce...</td>\n",
       "      <td>United States</td>\n",
       "      <td>branded_food</td>\n",
       "      <td>turkey wings with up to 6% absorbed water</td>\n",
       "      <td>NaN</td>\n",
       "      <td>2021-07-29</td>\n",
       "      <td>1</td>\n",
       "    </tr>\n",
       "    <tr>\n",
       "      <th>4</th>\n",
       "      <td>1847367</td>\n",
       "      <td>cargill meat solutions corp.</td>\n",
       "      <td>honeysuckle white</td>\n",
       "      <td>90642205501529</td>\n",
       "      <td>Turkey containing up to 6% absorbed water</td>\n",
       "      <td>meat/poultry/other animals  unprepared/unproce...</td>\n",
       "      <td>United States</td>\n",
       "      <td>branded_food</td>\n",
       "      <td>turkey containing up to 6% absorbed water</td>\n",
       "      <td>NaN</td>\n",
       "      <td>2021-07-29</td>\n",
       "      <td>1</td>\n",
       "    </tr>\n",
       "  </tbody>\n",
       "</table>\n",
       "</div>"
      ],
      "text/plain": [
       "    fdc_id                             brand_owner         brand_name  \\\n",
       "0  1847363  cargill incorporated/honeysuckle white  honeysuckle white   \n",
       "1  1847364  cargill incorporated/honeysuckle white  honeysuckle white   \n",
       "2  1847365            cargill meat solutions corp.  honeysuckle white   \n",
       "3  1847366            cargill meat solutions corp.  honeysuckle white   \n",
       "4  1847367            cargill meat solutions corp.  honeysuckle white   \n",
       "\n",
       "         gtin_upc                                  ingredients  \\\n",
       "0    642205534517  All Natural White Turkey, Natural Flavoring   \n",
       "1    642205534500         All Natural Turkey, Natural Flavoing   \n",
       "2  90642205500218          Turkey with up to 6% absorbed water   \n",
       "3  90642205501499    Turkey Wings with up to 6% absorbed water   \n",
       "4  90642205501529    Turkey containing up to 6% absorbed water   \n",
       "\n",
       "                               branded_food_category market_country  \\\n",
       "0  meat/poultry/other animals  unprepared/unproce...  United States   \n",
       "1  meat/poultry/other animals  unprepared/unproce...  United States   \n",
       "2  meat/poultry/other animals  unprepared/unproce...  United States   \n",
       "3  meat/poultry/other animals  unprepared/unproce...  United States   \n",
       "4  meat/poultry/other animals  unprepared/unproce...  United States   \n",
       "\n",
       "      data_type                                  description  \\\n",
       "0  branded_food  all natural white turkey, natural flavoring   \n",
       "1  branded_food         all natural turkey, natural flavoing   \n",
       "2  branded_food          turkey with up to 6% absorbed water   \n",
       "3  branded_food    turkey wings with up to 6% absorbed water   \n",
       "4  branded_food    turkey containing up to 6% absorbed water   \n",
       "\n",
       "   food_category_id publication_date  gluten_free?  \n",
       "0               NaN       2021-07-29             1  \n",
       "1               NaN       2021-07-29             1  \n",
       "2               NaN       2021-07-29             1  \n",
       "3               NaN       2021-07-29             1  \n",
       "4               NaN       2021-07-29             1  "
      ]
     },
     "execution_count": 87,
     "metadata": {},
     "output_type": "execute_result"
    }
   ],
   "source": [
    "join_ds.head()"
   ]
  },
  {
   "cell_type": "markdown",
   "metadata": {},
   "source": [
    "<a id=\"10\"></a> \n",
    "# Conclusion"
   ]
  },
  {
   "cell_type": "markdown",
   "metadata": {},
   "source": [
    "##### Lets export the dataset to run in another python file"
   ]
  },
  {
   "cell_type": "code",
   "execution_count": null,
   "metadata": {},
   "outputs": [],
   "source": [
    "# Lets only take the description and gluten_free? column as they are only reqired for the modeling\n",
    "dataset = join_ds[['description', 'gluten_free?']].copy()"
   ]
  },
  {
   "cell_type": "code",
   "execution_count": 74,
   "metadata": {},
   "outputs": [],
   "source": [
    "dataset.to_csv('Capstone.csv', index=False)"
   ]
  }
 ],
 "metadata": {
  "kernelspec": {
   "display_name": "Python 3 (ipykernel)",
   "language": "python",
   "name": "python3"
  },
  "language_info": {
   "codemirror_mode": {
    "name": "ipython",
    "version": 3
   },
   "file_extension": ".py",
   "mimetype": "text/x-python",
   "name": "python",
   "nbconvert_exporter": "python",
   "pygments_lexer": "ipython3",
   "version": "3.11.3"
  }
 },
 "nbformat": 4,
 "nbformat_minor": 4
}
